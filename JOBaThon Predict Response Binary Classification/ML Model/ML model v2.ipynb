{
 "cells": [
  {
   "cell_type": "code",
   "execution_count": 1,
   "id": "smaller-motivation",
   "metadata": {},
   "outputs": [],
   "source": [
    "import pandas as pd"
   ]
  },
  {
   "cell_type": "code",
   "execution_count": 2,
   "id": "digital-joint",
   "metadata": {},
   "outputs": [],
   "source": [
    "train = pd.read_csv ('cleandf.csv')"
   ]
  },
  {
   "cell_type": "code",
   "execution_count": null,
   "id": "tribal-links",
   "metadata": {},
   "outputs": [],
   "source": [
    "#Below part is only for MNIST dataset\n",
    "#For digit 5, output label=1, for any other digit output label=0\n",
    "y_train=((y_train_full==5).astype(int))  \n",
    "y_test=((y_test_full==5).astype(int))"
   ]
  },
  {
   "cell_type": "code",
   "execution_count": 3,
   "id": "strange-turkey",
   "metadata": {},
   "outputs": [
    {
     "data": {
      "text/plain": [
       "((50882, 16), (21805, 15))"
      ]
     },
     "execution_count": 3,
     "metadata": {},
     "output_type": "execute_result"
    }
   ],
   "source": [
    "train.shape, test.shape"
   ]
  },
  {
   "cell_type": "code",
   "execution_count": 3,
   "id": "orange-passion",
   "metadata": {},
   "outputs": [
    {
     "data": {
      "text/html": [
       "<div>\n",
       "<style scoped>\n",
       "    .dataframe tbody tr th:only-of-type {\n",
       "        vertical-align: middle;\n",
       "    }\n",
       "\n",
       "    .dataframe tbody tr th {\n",
       "        vertical-align: top;\n",
       "    }\n",
       "\n",
       "    .dataframe thead th {\n",
       "        text-align: right;\n",
       "    }\n",
       "</style>\n",
       "<table border=\"1\" class=\"dataframe\">\n",
       "  <thead>\n",
       "    <tr style=\"text-align: right;\">\n",
       "      <th></th>\n",
       "      <th>ID</th>\n",
       "      <th>Region_Code</th>\n",
       "      <th>Upper_Age</th>\n",
       "      <th>Lower_Age</th>\n",
       "      <th>Holding_Policy_Duration</th>\n",
       "      <th>Holding_Policy_Type</th>\n",
       "      <th>Reco_Policy_Cat</th>\n",
       "      <th>Reco_Policy_Premium</th>\n",
       "      <th>Response</th>\n",
       "      <th>City_Code_C1</th>\n",
       "      <th>...</th>\n",
       "      <th>Is_Spouse_Yes</th>\n",
       "      <th>HealthIndicator_1.0</th>\n",
       "      <th>HealthIndicator_2.0</th>\n",
       "      <th>HealthIndicator_3.0</th>\n",
       "      <th>HealthIndicator_4.0</th>\n",
       "      <th>HealthIndicator_X5</th>\n",
       "      <th>HealthIndicator_X6</th>\n",
       "      <th>HealthIndicator_X7</th>\n",
       "      <th>HealthIndicator_X8</th>\n",
       "      <th>HealthIndicator_X9</th>\n",
       "    </tr>\n",
       "  </thead>\n",
       "  <tbody>\n",
       "    <tr>\n",
       "      <th>0</th>\n",
       "      <td>1</td>\n",
       "      <td>3213</td>\n",
       "      <td>36</td>\n",
       "      <td>36</td>\n",
       "      <td>15.0</td>\n",
       "      <td>3.0</td>\n",
       "      <td>22</td>\n",
       "      <td>11628.0</td>\n",
       "      <td>0</td>\n",
       "      <td>0</td>\n",
       "      <td>...</td>\n",
       "      <td>0</td>\n",
       "      <td>0</td>\n",
       "      <td>0</td>\n",
       "      <td>0</td>\n",
       "      <td>0</td>\n",
       "      <td>0</td>\n",
       "      <td>0</td>\n",
       "      <td>0</td>\n",
       "      <td>0</td>\n",
       "      <td>1</td>\n",
       "    </tr>\n",
       "    <tr>\n",
       "      <th>1</th>\n",
       "      <td>2</td>\n",
       "      <td>1117</td>\n",
       "      <td>75</td>\n",
       "      <td>22</td>\n",
       "      <td>5.0</td>\n",
       "      <td>3.0</td>\n",
       "      <td>22</td>\n",
       "      <td>30510.0</td>\n",
       "      <td>0</td>\n",
       "      <td>0</td>\n",
       "      <td>...</td>\n",
       "      <td>0</td>\n",
       "      <td>0</td>\n",
       "      <td>0</td>\n",
       "      <td>0</td>\n",
       "      <td>0</td>\n",
       "      <td>0</td>\n",
       "      <td>0</td>\n",
       "      <td>0</td>\n",
       "      <td>1</td>\n",
       "      <td>0</td>\n",
       "    </tr>\n",
       "    <tr>\n",
       "      <th>2</th>\n",
       "      <td>3</td>\n",
       "      <td>3732</td>\n",
       "      <td>32</td>\n",
       "      <td>32</td>\n",
       "      <td>1.0</td>\n",
       "      <td>1.0</td>\n",
       "      <td>19</td>\n",
       "      <td>7450.0</td>\n",
       "      <td>1</td>\n",
       "      <td>0</td>\n",
       "      <td>...</td>\n",
       "      <td>0</td>\n",
       "      <td>0</td>\n",
       "      <td>0</td>\n",
       "      <td>0</td>\n",
       "      <td>0</td>\n",
       "      <td>0</td>\n",
       "      <td>0</td>\n",
       "      <td>0</td>\n",
       "      <td>1</td>\n",
       "      <td>0</td>\n",
       "    </tr>\n",
       "    <tr>\n",
       "      <th>3</th>\n",
       "      <td>4</td>\n",
       "      <td>4378</td>\n",
       "      <td>52</td>\n",
       "      <td>48</td>\n",
       "      <td>15.0</td>\n",
       "      <td>3.0</td>\n",
       "      <td>19</td>\n",
       "      <td>17780.0</td>\n",
       "      <td>0</td>\n",
       "      <td>0</td>\n",
       "      <td>...</td>\n",
       "      <td>0</td>\n",
       "      <td>0</td>\n",
       "      <td>0</td>\n",
       "      <td>0</td>\n",
       "      <td>0</td>\n",
       "      <td>0</td>\n",
       "      <td>0</td>\n",
       "      <td>0</td>\n",
       "      <td>0</td>\n",
       "      <td>1</td>\n",
       "    </tr>\n",
       "  </tbody>\n",
       "</table>\n",
       "<p>4 rows × 60 columns</p>\n",
       "</div>"
      ],
      "text/plain": [
       "   ID  Region_Code  Upper_Age  Lower_Age  Holding_Policy_Duration  \\\n",
       "0   1         3213         36         36                     15.0   \n",
       "1   2         1117         75         22                      5.0   \n",
       "2   3         3732         32         32                      1.0   \n",
       "3   4         4378         52         48                     15.0   \n",
       "\n",
       "   Holding_Policy_Type  Reco_Policy_Cat  Reco_Policy_Premium  Response  \\\n",
       "0                  3.0               22              11628.0         0   \n",
       "1                  3.0               22              30510.0         0   \n",
       "2                  1.0               19               7450.0         1   \n",
       "3                  3.0               19              17780.0         0   \n",
       "\n",
       "   City_Code_C1  ...  Is_Spouse_Yes  HealthIndicator_1.0  HealthIndicator_2.0  \\\n",
       "0             0  ...              0                    0                    0   \n",
       "1             0  ...              0                    0                    0   \n",
       "2             0  ...              0                    0                    0   \n",
       "3             0  ...              0                    0                    0   \n",
       "\n",
       "   HealthIndicator_3.0  HealthIndicator_4.0  HealthIndicator_X5  \\\n",
       "0                    0                    0                   0   \n",
       "1                    0                    0                   0   \n",
       "2                    0                    0                   0   \n",
       "3                    0                    0                   0   \n",
       "\n",
       "   HealthIndicator_X6  HealthIndicator_X7  HealthIndicator_X8  \\\n",
       "0                   0                   0                   0   \n",
       "1                   0                   0                   1   \n",
       "2                   0                   0                   1   \n",
       "3                   0                   0                   0   \n",
       "\n",
       "   HealthIndicator_X9  \n",
       "0                   1  \n",
       "1                   0  \n",
       "2                   0  \n",
       "3                   1  \n",
       "\n",
       "[4 rows x 60 columns]"
      ]
     },
     "execution_count": 3,
     "metadata": {},
     "output_type": "execute_result"
    }
   ],
   "source": [
    "train.head(4)"
   ]
  },
  {
   "cell_type": "code",
   "execution_count": 5,
   "id": "white-quarter",
   "metadata": {},
   "outputs": [
    {
     "data": {
      "text/html": [
       "<div>\n",
       "<style scoped>\n",
       "    .dataframe tbody tr th:only-of-type {\n",
       "        vertical-align: middle;\n",
       "    }\n",
       "\n",
       "    .dataframe tbody tr th {\n",
       "        vertical-align: top;\n",
       "    }\n",
       "\n",
       "    .dataframe thead th {\n",
       "        text-align: right;\n",
       "    }\n",
       "</style>\n",
       "<table border=\"1\" class=\"dataframe\">\n",
       "  <thead>\n",
       "    <tr style=\"text-align: right;\">\n",
       "      <th></th>\n",
       "      <th>ID</th>\n",
       "      <th>City_Code</th>\n",
       "      <th>Region_Code</th>\n",
       "      <th>Upper_Age</th>\n",
       "      <th>Lower_Age</th>\n",
       "      <th>Is_Spouse</th>\n",
       "      <th>HealthIndicator</th>\n",
       "      <th>Holding_Policy_Duration</th>\n",
       "      <th>Holding_Policy_Type</th>\n",
       "      <th>Reco_Policy_Cat</th>\n",
       "      <th>Reco_Policy_Premium</th>\n",
       "      <th>Reco_Insurance_Type_Individual</th>\n",
       "      <th>Reco_Insurance_Type_Joint</th>\n",
       "      <th>Accomodation_Type_Owned</th>\n",
       "      <th>Accomodation_Type_Rented</th>\n",
       "    </tr>\n",
       "  </thead>\n",
       "  <tbody>\n",
       "    <tr>\n",
       "      <th>0</th>\n",
       "      <td>50883</td>\n",
       "      <td>C1</td>\n",
       "      <td>156</td>\n",
       "      <td>30</td>\n",
       "      <td>30</td>\n",
       "      <td>0</td>\n",
       "      <td>7.574622</td>\n",
       "      <td>6.0</td>\n",
       "      <td>3.0</td>\n",
       "      <td>5</td>\n",
       "      <td>11934.0</td>\n",
       "      <td>1</td>\n",
       "      <td>0</td>\n",
       "      <td>1</td>\n",
       "      <td>0</td>\n",
       "    </tr>\n",
       "    <tr>\n",
       "      <th>1</th>\n",
       "      <td>50884</td>\n",
       "      <td>C4</td>\n",
       "      <td>7</td>\n",
       "      <td>69</td>\n",
       "      <td>68</td>\n",
       "      <td>1</td>\n",
       "      <td>9.000000</td>\n",
       "      <td>3.0</td>\n",
       "      <td>3.0</td>\n",
       "      <td>18</td>\n",
       "      <td>32204.8</td>\n",
       "      <td>0</td>\n",
       "      <td>1</td>\n",
       "      <td>1</td>\n",
       "      <td>0</td>\n",
       "    </tr>\n",
       "    <tr>\n",
       "      <th>2</th>\n",
       "      <td>50885</td>\n",
       "      <td>C1</td>\n",
       "      <td>564</td>\n",
       "      <td>28</td>\n",
       "      <td>28</td>\n",
       "      <td>0</td>\n",
       "      <td>7.000000</td>\n",
       "      <td>2.0</td>\n",
       "      <td>4.0</td>\n",
       "      <td>17</td>\n",
       "      <td>9240.0</td>\n",
       "      <td>1</td>\n",
       "      <td>0</td>\n",
       "      <td>0</td>\n",
       "      <td>1</td>\n",
       "    </tr>\n",
       "    <tr>\n",
       "      <th>3</th>\n",
       "      <td>50886</td>\n",
       "      <td>C3</td>\n",
       "      <td>1177</td>\n",
       "      <td>23</td>\n",
       "      <td>23</td>\n",
       "      <td>0</td>\n",
       "      <td>7.000000</td>\n",
       "      <td>3.0</td>\n",
       "      <td>3.0</td>\n",
       "      <td>18</td>\n",
       "      <td>9086.0</td>\n",
       "      <td>1</td>\n",
       "      <td>0</td>\n",
       "      <td>0</td>\n",
       "      <td>1</td>\n",
       "    </tr>\n",
       "  </tbody>\n",
       "</table>\n",
       "</div>"
      ],
      "text/plain": [
       "      ID City_Code  Region_Code  Upper_Age  Lower_Age  Is_Spouse  \\\n",
       "0  50883        C1          156         30         30          0   \n",
       "1  50884        C4            7         69         68          1   \n",
       "2  50885        C1          564         28         28          0   \n",
       "3  50886        C3         1177         23         23          0   \n",
       "\n",
       "   HealthIndicator  Holding_Policy_Duration  Holding_Policy_Type  \\\n",
       "0         7.574622                      6.0                  3.0   \n",
       "1         9.000000                      3.0                  3.0   \n",
       "2         7.000000                      2.0                  4.0   \n",
       "3         7.000000                      3.0                  3.0   \n",
       "\n",
       "   Reco_Policy_Cat  Reco_Policy_Premium  Reco_Insurance_Type_Individual  \\\n",
       "0                5              11934.0                               1   \n",
       "1               18              32204.8                               0   \n",
       "2               17               9240.0                               1   \n",
       "3               18               9086.0                               1   \n",
       "\n",
       "   Reco_Insurance_Type_Joint  Accomodation_Type_Owned  \\\n",
       "0                          0                        1   \n",
       "1                          1                        1   \n",
       "2                          0                        0   \n",
       "3                          0                        0   \n",
       "\n",
       "   Accomodation_Type_Rented  \n",
       "0                         0  \n",
       "1                         0  \n",
       "2                         1  \n",
       "3                         1  "
      ]
     },
     "execution_count": 5,
     "metadata": {},
     "output_type": "execute_result"
    }
   ],
   "source": [
    "test.head(4)"
   ]
  },
  {
   "cell_type": "code",
   "execution_count": 4,
   "id": "sticky-silly",
   "metadata": {},
   "outputs": [
    {
     "data": {
      "text/plain": [
       "(50882, 60)"
      ]
     },
     "execution_count": 4,
     "metadata": {},
     "output_type": "execute_result"
    }
   ],
   "source": [
    "train.shape"
   ]
  },
  {
   "cell_type": "code",
   "execution_count": 5,
   "id": "invalid-belarus",
   "metadata": {},
   "outputs": [],
   "source": [
    "X = train.drop(['Response','ID','Region_Code'], axis = 1)\n",
    "y = train['Response'] "
   ]
  },
  {
   "cell_type": "code",
   "execution_count": 6,
   "id": "related-desktop",
   "metadata": {},
   "outputs": [
    {
     "data": {
      "text/plain": [
       "((50882, 57), (50882,))"
      ]
     },
     "execution_count": 6,
     "metadata": {},
     "output_type": "execute_result"
    }
   ],
   "source": [
    "X.shape, y.shape"
   ]
  },
  {
   "cell_type": "code",
   "execution_count": 9,
   "id": "conditional-paradise",
   "metadata": {},
   "outputs": [
    {
     "data": {
      "text/html": [
       "<div>\n",
       "<style scoped>\n",
       "    .dataframe tbody tr th:only-of-type {\n",
       "        vertical-align: middle;\n",
       "    }\n",
       "\n",
       "    .dataframe tbody tr th {\n",
       "        vertical-align: top;\n",
       "    }\n",
       "\n",
       "    .dataframe thead th {\n",
       "        text-align: right;\n",
       "    }\n",
       "</style>\n",
       "<table border=\"1\" class=\"dataframe\">\n",
       "  <thead>\n",
       "    <tr style=\"text-align: right;\">\n",
       "      <th></th>\n",
       "      <th>Upper_Age</th>\n",
       "      <th>Lower_Age</th>\n",
       "      <th>Holding_Policy_Duration</th>\n",
       "      <th>Holding_Policy_Type</th>\n",
       "      <th>Reco_Policy_Cat</th>\n",
       "      <th>Reco_Policy_Premium</th>\n",
       "      <th>City_Code_C1</th>\n",
       "      <th>City_Code_C10</th>\n",
       "      <th>City_Code_C11</th>\n",
       "      <th>City_Code_C12</th>\n",
       "      <th>...</th>\n",
       "      <th>Is_Spouse_Yes</th>\n",
       "      <th>HealthIndicator_1.0</th>\n",
       "      <th>HealthIndicator_2.0</th>\n",
       "      <th>HealthIndicator_3.0</th>\n",
       "      <th>HealthIndicator_4.0</th>\n",
       "      <th>HealthIndicator_X5</th>\n",
       "      <th>HealthIndicator_X6</th>\n",
       "      <th>HealthIndicator_X7</th>\n",
       "      <th>HealthIndicator_X8</th>\n",
       "      <th>HealthIndicator_X9</th>\n",
       "    </tr>\n",
       "  </thead>\n",
       "  <tbody>\n",
       "    <tr>\n",
       "      <th>0</th>\n",
       "      <td>0.315789</td>\n",
       "      <td>0.338983</td>\n",
       "      <td>1.000000</td>\n",
       "      <td>0.666667</td>\n",
       "      <td>1.000000</td>\n",
       "      <td>0.227609</td>\n",
       "      <td>0.0</td>\n",
       "      <td>0.0</td>\n",
       "      <td>0.0</td>\n",
       "      <td>0.0</td>\n",
       "      <td>...</td>\n",
       "      <td>0.0</td>\n",
       "      <td>0.0</td>\n",
       "      <td>0.0</td>\n",
       "      <td>0.0</td>\n",
       "      <td>0.0</td>\n",
       "      <td>0.0</td>\n",
       "      <td>0.0</td>\n",
       "      <td>0.0</td>\n",
       "      <td>0.0</td>\n",
       "      <td>1.0</td>\n",
       "    </tr>\n",
       "    <tr>\n",
       "      <th>1</th>\n",
       "      <td>1.000000</td>\n",
       "      <td>0.101695</td>\n",
       "      <td>0.285714</td>\n",
       "      <td>0.666667</td>\n",
       "      <td>1.000000</td>\n",
       "      <td>0.687356</td>\n",
       "      <td>0.0</td>\n",
       "      <td>0.0</td>\n",
       "      <td>0.0</td>\n",
       "      <td>0.0</td>\n",
       "      <td>...</td>\n",
       "      <td>0.0</td>\n",
       "      <td>0.0</td>\n",
       "      <td>0.0</td>\n",
       "      <td>0.0</td>\n",
       "      <td>0.0</td>\n",
       "      <td>0.0</td>\n",
       "      <td>0.0</td>\n",
       "      <td>0.0</td>\n",
       "      <td>1.0</td>\n",
       "      <td>0.0</td>\n",
       "    </tr>\n",
       "    <tr>\n",
       "      <th>2</th>\n",
       "      <td>0.245614</td>\n",
       "      <td>0.271186</td>\n",
       "      <td>0.000000</td>\n",
       "      <td>0.000000</td>\n",
       "      <td>0.857143</td>\n",
       "      <td>0.125881</td>\n",
       "      <td>0.0</td>\n",
       "      <td>0.0</td>\n",
       "      <td>0.0</td>\n",
       "      <td>0.0</td>\n",
       "      <td>...</td>\n",
       "      <td>0.0</td>\n",
       "      <td>0.0</td>\n",
       "      <td>0.0</td>\n",
       "      <td>0.0</td>\n",
       "      <td>0.0</td>\n",
       "      <td>0.0</td>\n",
       "      <td>0.0</td>\n",
       "      <td>0.0</td>\n",
       "      <td>1.0</td>\n",
       "      <td>0.0</td>\n",
       "    </tr>\n",
       "    <tr>\n",
       "      <th>3</th>\n",
       "      <td>0.596491</td>\n",
       "      <td>0.542373</td>\n",
       "      <td>1.000000</td>\n",
       "      <td>0.666667</td>\n",
       "      <td>0.857143</td>\n",
       "      <td>0.377401</td>\n",
       "      <td>0.0</td>\n",
       "      <td>0.0</td>\n",
       "      <td>0.0</td>\n",
       "      <td>0.0</td>\n",
       "      <td>...</td>\n",
       "      <td>0.0</td>\n",
       "      <td>0.0</td>\n",
       "      <td>0.0</td>\n",
       "      <td>0.0</td>\n",
       "      <td>0.0</td>\n",
       "      <td>0.0</td>\n",
       "      <td>0.0</td>\n",
       "      <td>0.0</td>\n",
       "      <td>0.0</td>\n",
       "      <td>1.0</td>\n",
       "    </tr>\n",
       "    <tr>\n",
       "      <th>4</th>\n",
       "      <td>0.456140</td>\n",
       "      <td>0.474576</td>\n",
       "      <td>0.142857</td>\n",
       "      <td>0.000000</td>\n",
       "      <td>0.714286</td>\n",
       "      <td>0.197807</td>\n",
       "      <td>0.0</td>\n",
       "      <td>0.0</td>\n",
       "      <td>0.0</td>\n",
       "      <td>0.0</td>\n",
       "      <td>...</td>\n",
       "      <td>0.0</td>\n",
       "      <td>0.0</td>\n",
       "      <td>0.0</td>\n",
       "      <td>0.0</td>\n",
       "      <td>0.0</td>\n",
       "      <td>0.0</td>\n",
       "      <td>0.0</td>\n",
       "      <td>0.0</td>\n",
       "      <td>1.0</td>\n",
       "      <td>0.0</td>\n",
       "    </tr>\n",
       "  </tbody>\n",
       "</table>\n",
       "<p>5 rows × 57 columns</p>\n",
       "</div>"
      ],
      "text/plain": [
       "   Upper_Age  Lower_Age  Holding_Policy_Duration  Holding_Policy_Type  \\\n",
       "0   0.315789   0.338983                 1.000000             0.666667   \n",
       "1   1.000000   0.101695                 0.285714             0.666667   \n",
       "2   0.245614   0.271186                 0.000000             0.000000   \n",
       "3   0.596491   0.542373                 1.000000             0.666667   \n",
       "4   0.456140   0.474576                 0.142857             0.000000   \n",
       "\n",
       "   Reco_Policy_Cat  Reco_Policy_Premium  City_Code_C1  City_Code_C10  \\\n",
       "0         1.000000             0.227609           0.0            0.0   \n",
       "1         1.000000             0.687356           0.0            0.0   \n",
       "2         0.857143             0.125881           0.0            0.0   \n",
       "3         0.857143             0.377401           0.0            0.0   \n",
       "4         0.714286             0.197807           0.0            0.0   \n",
       "\n",
       "   City_Code_C11  City_Code_C12  ...  Is_Spouse_Yes  HealthIndicator_1.0  \\\n",
       "0            0.0            0.0  ...            0.0                  0.0   \n",
       "1            0.0            0.0  ...            0.0                  0.0   \n",
       "2            0.0            0.0  ...            0.0                  0.0   \n",
       "3            0.0            0.0  ...            0.0                  0.0   \n",
       "4            0.0            0.0  ...            0.0                  0.0   \n",
       "\n",
       "   HealthIndicator_2.0  HealthIndicator_3.0  HealthIndicator_4.0  \\\n",
       "0                  0.0                  0.0                  0.0   \n",
       "1                  0.0                  0.0                  0.0   \n",
       "2                  0.0                  0.0                  0.0   \n",
       "3                  0.0                  0.0                  0.0   \n",
       "4                  0.0                  0.0                  0.0   \n",
       "\n",
       "   HealthIndicator_X5  HealthIndicator_X6  HealthIndicator_X7  \\\n",
       "0                 0.0                 0.0                 0.0   \n",
       "1                 0.0                 0.0                 0.0   \n",
       "2                 0.0                 0.0                 0.0   \n",
       "3                 0.0                 0.0                 0.0   \n",
       "4                 0.0                 0.0                 0.0   \n",
       "\n",
       "   HealthIndicator_X8  HealthIndicator_X9  \n",
       "0                 0.0                 1.0  \n",
       "1                 1.0                 0.0  \n",
       "2                 1.0                 0.0  \n",
       "3                 0.0                 1.0  \n",
       "4                 1.0                 0.0  \n",
       "\n",
       "[5 rows x 57 columns]"
      ]
     },
     "execution_count": 9,
     "metadata": {},
     "output_type": "execute_result"
    }
   ],
   "source": [
    "from sklearn.preprocessing import MinMaxScaler\n",
    "scaler = MinMaxScaler()\n",
    "X = pd.DataFrame(scaler.fit_transform(X), columns = X.columns)\n",
    "X.head()"
   ]
  },
  {
   "cell_type": "code",
   "execution_count": 8,
   "id": "danish-standing",
   "metadata": {},
   "outputs": [
    {
     "name": "stdout",
     "output_type": "stream",
     "text": [
      "Data For Training model\n",
      "\n",
      " Input data:  (50882, 13) \n",
      " Output data:  (50882,)\n"
     ]
    }
   ],
   "source": [
    "print(\"Data For Training model\\n\\n\",\"Input data: \", X.shape, \"\\n\", \"Output data: \",y.shape)"
   ]
  },
  {
   "cell_type": "code",
   "execution_count": 10,
   "id": "sized-warehouse",
   "metadata": {},
   "outputs": [
    {
     "name": "stdout",
     "output_type": "stream",
     "text": [
      "Training Data : X_train: (35617, 57) --- y_train: (35617,) \n",
      "Testing Data  : X_test: (15265, 57)  --- y_test: (15265,)\n"
     ]
    }
   ],
   "source": [
    "from sklearn.model_selection import train_test_split \n",
    "X_train, X_test, y_train, y_test = train_test_split(X, y, test_size=0.3, random_state=101)\n",
    "print(\"Training Data :\",\"X_train:\", X_train.shape, \"--- y_train:\", y_train.shape,\"\\nTesting Data  :\" \" X_test:\",X_test.shape, \" --- y_test:\",y_test.shape)"
   ]
  },
  {
   "cell_type": "code",
   "execution_count": 11,
   "id": "level-monkey",
   "metadata": {},
   "outputs": [
    {
     "name": "stdout",
     "output_type": "stream",
     "text": [
      "---------------------------------------------\n",
      "Accuracy: 75.89\n",
      "---------------------------------------------\n",
      "              precision    recall  f1-score   support\n",
      "\n",
      "           0       0.77      0.97      0.86     11667\n",
      "           1       0.43      0.06      0.11      3598\n",
      "\n",
      "    accuracy                           0.76     15265\n",
      "   macro avg       0.60      0.52      0.49     15265\n",
      "weighted avg       0.69      0.76      0.68     15265\n",
      "\n"
     ]
    }
   ],
   "source": [
    "from xgboost import XGBClassifier\n",
    "from sklearn.metrics import accuracy_score\n",
    "from sklearn.metrics import classification_report\n",
    "\n",
    "# define the model\n",
    "model_xgbc = XGBClassifier()\n",
    "\n",
    "# fit the model on train data\n",
    "model_xgbc.fit(X_train, y_train)\n",
    "\n",
    "# predict on test set\n",
    "yhat_xgbc = model_xgbc.predict(X_test)\n",
    "\n",
    "# evaluate predictions\n",
    "accuracy = accuracy_score(y_test, yhat_xgbc)\n",
    "print(\"---------------------------------------------\")\n",
    "print('Accuracy: %.2f' % (accuracy*100))\n",
    "print(\"---------------------------------------------\")\n",
    "print(classification_report(y_test,yhat_xgbc))"
   ]
  },
  {
   "cell_type": "code",
   "execution_count": 12,
   "id": "first-spencer",
   "metadata": {},
   "outputs": [],
   "source": [
    "import xgboost as xgb\n",
    "from xgboost import plot_importance\n",
    "\n",
    "params = {\n",
    "    'objective': 'binary:logistic',\n",
    "    'gamma': 0.1,\n",
    "    'max_depth': 5,\n",
    "    'lambda': 3,\n",
    "    'subsample': 0.7,\n",
    "    'colsample_bytree': 0.7,\n",
    "    'min_child_weight': 3,\n",
    "    'silent': 1,\n",
    "    'eta': 0.1,\n",
    "    'seed': 1000,\n",
    "    'nthread': 4,\n",
    "}\n",
    "\n",
    "num_round = 10"
   ]
  },
  {
   "cell_type": "code",
   "execution_count": 13,
   "id": "civic-convergence",
   "metadata": {},
   "outputs": [
    {
     "name": "stdout",
     "output_type": "stream",
     "text": [
      "[19:21:56] WARNING: /Users/travis/build/dmlc/xgboost/src/learner.cc:480: \n",
      "Parameters: { silent } might not be used.\n",
      "\n",
      "  This may not be accurate due to some parameters are only used in language bindings but\n",
      "  passed down to XGBoost core.  Or some parameters are not used but slip through this\n",
      "  verification. Please open an issue if you find above cases.\n",
      "\n",
      "\n",
      "[0]\ttrain-error:0.24182\ttest-error:0.23655\n",
      "[1]\ttrain-error:0.24177\ttest-error:0.23577\n",
      "[2]\ttrain-error:0.24177\ttest-error:0.23570\n",
      "[3]\ttrain-error:0.24177\ttest-error:0.23570\n",
      "[4]\ttrain-error:0.24177\ttest-error:0.23570\n",
      "[5]\ttrain-error:0.24177\ttest-error:0.23570\n",
      "[6]\ttrain-error:0.24177\ttest-error:0.23570\n",
      "[7]\ttrain-error:0.24177\ttest-error:0.23570\n",
      "[8]\ttrain-error:0.24177\ttest-error:0.23570\n",
      "[9]\ttrain-error:0.24177\ttest-error:0.23570\n"
     ]
    }
   ],
   "source": [
    "\n",
    "\n",
    "dtrain = xgb.DMatrix(X_train, label=y_train)\n",
    "dtest = xgb.DMatrix(X_test, label=y_test)\n",
    "watchlist = [(dtrain, 'train'), (dtest, 'test')]\n",
    "bst = xgb.train(params, dtrain, num_round, watchlist)\n",
    "y_pred_xgb = bst.predict(dtest)"
   ]
  },
  {
   "cell_type": "code",
   "execution_count": 14,
   "id": "streaming-conservation",
   "metadata": {},
   "outputs": [
    {
     "ename": "NameError",
     "evalue": "name 'throttling' is not defined",
     "output_type": "error",
     "traceback": [
      "\u001b[0;31m---------------------------------------------------------------------------\u001b[0m",
      "\u001b[0;31mNameError\u001b[0m                                 Traceback (most recent call last)",
      "\u001b[0;32m<ipython-input-14-8d9099f9adf8>\u001b[0m in \u001b[0;36m<module>\u001b[0;34m\u001b[0m\n\u001b[0;32m----> 1\u001b[0;31m \u001b[0mprint\u001b[0m\u001b[0;34m(\u001b[0m\u001b[0;34m'The accuracy of the Neural Network is'\u001b[0m\u001b[0;34m,\u001b[0m\u001b[0mround\u001b[0m\u001b[0;34m(\u001b[0m\u001b[0maccuracy_score\u001b[0m\u001b[0;34m(\u001b[0m\u001b[0mthrottling\u001b[0m\u001b[0;34m(\u001b[0m\u001b[0my_pred_xgb\u001b[0m\u001b[0;34m,\u001b[0m \u001b[0;36m0.6\u001b[0m\u001b[0;34m)\u001b[0m\u001b[0;34m,\u001b[0m\u001b[0my_test\u001b[0m\u001b[0;34m)\u001b[0m\u001b[0;34m*\u001b[0m\u001b[0;36m100\u001b[0m\u001b[0;34m,\u001b[0m\u001b[0;36m2\u001b[0m\u001b[0;34m)\u001b[0m\u001b[0;34m)\u001b[0m\u001b[0;34m\u001b[0m\u001b[0;34m\u001b[0m\u001b[0m\n\u001b[0m",
      "\u001b[0;31mNameError\u001b[0m: name 'throttling' is not defined"
     ]
    }
   ],
   "source": [
    "print('The accuracy of the Neural Network is',round(accuracy_score(throttling(y_pred_xgb, 0.6),y_test)*100,2))"
   ]
  },
  {
   "cell_type": "code",
   "execution_count": 15,
   "id": "embedded-playing",
   "metadata": {},
   "outputs": [
    {
     "data": {
      "text/plain": [
       "<AxesSubplot:title={'center':'Feature importance'}, xlabel='F score', ylabel='Features'>"
      ]
     },
     "execution_count": 15,
     "metadata": {},
     "output_type": "execute_result"
    },
    {
     "data": {
      "image/png": "[encoded data removed]",
      "text/plain": [
       "<Figure size 432x288 with 1 Axes>"
      ]
     },
     "metadata": {
      "needs_background": "light"
     },
     "output_type": "display_data"
    }
   ],
   "source": [
    "plot_importance(bst)"
   ]
  },
  {
   "cell_type": "code",
   "execution_count": 17,
   "id": "coordinated-contribution",
   "metadata": {},
   "outputs": [],
   "source": [
    "import matplotlib.pyplot as plt\n",
    "from matplotlib import style\n",
    "style.use('ggplot')"
   ]
  },
  {
   "cell_type": "code",
   "execution_count": 21,
   "id": "genetic-dubai",
   "metadata": {},
   "outputs": [
    {
     "data": {
      "text/plain": [
       "<Figure size 2880x1440 with 0 Axes>"
      ]
     },
     "metadata": {},
     "output_type": "display_data"
    },
    {
     "data": {
      "image/png": "[encoded data removed]",
      "text/plain": [
       "<Figure size 2160x7200 with 1 Axes>"
      ]
     },
     "metadata": {},
     "output_type": "display_data"
    }
   ],
   "source": [
    "from xgboost import plot_importance\n",
    "plt.figure(figsize=(40,20))\n",
    "plot_importance(bst,max_num_features=100)\n",
    "plt.rcParams[\"figure.figsize\"] = (40,100)\n",
    "plt.show()"
   ]
  },
  {
   "cell_type": "code",
   "execution_count": null,
   "id": "negative-license",
   "metadata": {},
   "outputs": [],
   "source": []
  },
  {
   "cell_type": "code",
   "execution_count": null,
   "id": "diagnostic-traffic",
   "metadata": {},
   "outputs": [],
   "source": []
  },
  {
   "cell_type": "code",
   "execution_count": null,
   "id": "digital-lawrence",
   "metadata": {},
   "outputs": [],
   "source": []
  },
  {
   "cell_type": "code",
   "execution_count": null,
   "id": "infrared-nickname",
   "metadata": {},
   "outputs": [],
   "source": []
  },
  {
   "cell_type": "code",
   "execution_count": 11,
   "id": "approximate-identity",
   "metadata": {},
   "outputs": [
    {
     "name": "stdout",
     "output_type": "stream",
     "text": [
      "---------------------------------------------\n",
      "Accuracy: 75.63\n",
      "---------------------------------------------\n",
      "              precision    recall  f1-score   support\n",
      "\n",
      "           0       0.77      0.98      0.86     11667\n",
      "           1       0.36      0.04      0.07      3598\n",
      "\n",
      "    accuracy                           0.76     15265\n",
      "   macro avg       0.56      0.51      0.47     15265\n",
      "weighted avg       0.67      0.76      0.67     15265\n",
      "\n"
     ]
    }
   ],
   "source": [
    "from sklearn.ensemble import RandomForestClassifier\n",
    "from sklearn.metrics import accuracy_score\n",
    "from sklearn.metrics import classification_report\n",
    "\n",
    "model = RandomForestClassifier(n_estimators = 100, criterion = 'entropy', random_state = 0)\n",
    "model.fit(X_train, y_train)\n",
    "\n",
    "# predict on test set\n",
    "ypred = model.predict(X_test)\n",
    "\n",
    "# evaluate predictions\n",
    "accuracy = accuracy_score(y_test, ypred)\n",
    "print(\"---------------------------------------------\")\n",
    "print('Accuracy: %.2f' % (accuracy*100))\n",
    "print(\"---------------------------------------------\")\n",
    "print(classification_report(y_test,ypred))"
   ]
  },
  {
   "cell_type": "code",
   "execution_count": 12,
   "id": "threatened-button",
   "metadata": {},
   "outputs": [
    {
     "name": "stdout",
     "output_type": "stream",
     "text": [
      "The accuracy score achieved using Logistic Regression is: 76.43 %\n"
     ]
    }
   ],
   "source": [
    "from sklearn.metrics import accuracy_score\n",
    "from sklearn.linear_model import LogisticRegression\n",
    "lr = LogisticRegression()\n",
    "\n",
    "lr.fit(X_train, y_train)\n",
    "\n",
    "Y_pred_lr = lr.predict(X_test)\n",
    "\n",
    "score_lr = round(accuracy_score(Y_pred_lr,y_test)*100,2)\n",
    "\n",
    "print(\"The accuracy score achieved using Logistic Regression is: \"+str(score_lr)+\" %\")"
   ]
  },
  {
   "cell_type": "code",
   "execution_count": 13,
   "id": "deadly-cookie",
   "metadata": {},
   "outputs": [
    {
     "name": "stdout",
     "output_type": "stream",
     "text": [
      "The accuracy score achieved using Naive Bayes is: 76.38 %\n"
     ]
    }
   ],
   "source": [
    "from sklearn.naive_bayes import GaussianNB\n",
    "nb = GaussianNB()\n",
    "\n",
    "nb.fit(X_train,y_train)\n",
    "Y_pred_nb = nb.predict(X_test)\n",
    "\n",
    "score_nb = round(accuracy_score(Y_pred_nb,y_test)*100,2)\n",
    "\n",
    "print(\"The accuracy score achieved using Naive Bayes is: \"+str(score_nb)+\" %\")"
   ]
  },
  {
   "cell_type": "code",
   "execution_count": 14,
   "id": "loaded-monroe",
   "metadata": {},
   "outputs": [
    {
     "name": "stdout",
     "output_type": "stream",
     "text": [
      "The accuracy score achieved using Linear SVM is: 76.43 %\n"
     ]
    }
   ],
   "source": [
    "from sklearn import svm\n",
    "\n",
    "sv = svm.SVC(kernel='linear')\n",
    "\n",
    "sv.fit(X_train, y_train)\n",
    "\n",
    "Y_pred_svm = sv.predict(X_test)\n",
    "\n",
    "score_svm = round(accuracy_score(Y_pred_svm,y_test)*100,2)\n",
    "\n",
    "print(\"The accuracy score achieved using Linear SVM is: \"+str(score_svm)+\" %\")"
   ]
  },
  {
   "cell_type": "code",
   "execution_count": 15,
   "id": "union-sarah",
   "metadata": {},
   "outputs": [
    {
     "name": "stdout",
     "output_type": "stream",
     "text": [
      "The accuracy score achieved using KNN is: 73.28 %\n"
     ]
    }
   ],
   "source": [
    "from sklearn.neighbors import KNeighborsClassifier\n",
    "\n",
    "knn = KNeighborsClassifier(n_neighbors=7)\n",
    "knn.fit(X_train,y_train)\n",
    "Y_pred_knn=knn.predict(X_test)\n",
    "\n",
    "score_knn = round(accuracy_score(Y_pred_knn,y_test)*100,2)\n",
    "\n",
    "print(\"The accuracy score achieved using KNN is: \"+str(score_knn)+\" %\")"
   ]
  },
  {
   "cell_type": "code",
   "execution_count": 16,
   "id": "attached-proposition",
   "metadata": {},
   "outputs": [
    {
     "name": "stdout",
     "output_type": "stream",
     "text": [
      "The accuracy score achieved using Decision Tree is: 65.92 %\n"
     ]
    }
   ],
   "source": [
    "from sklearn.tree import DecisionTreeClassifier\n",
    "\n",
    "max_accuracy = 0\n",
    "\n",
    "\n",
    "for x in range(200):\n",
    "    dt = DecisionTreeClassifier(random_state=x)\n",
    "    dt.fit(X_train,y_train)\n",
    "    Y_pred_dt = dt.predict(X_test)\n",
    "    current_accuracy = round(accuracy_score(Y_pred_dt,y_test)*100,2)\n",
    "    if(current_accuracy>max_accuracy):\n",
    "        max_accuracy = current_accuracy\n",
    "        best_x = x\n",
    "        \n",
    "#print(max_accuracy)\n",
    "#print(best_x)\n",
    "\n",
    "\n",
    "dt = DecisionTreeClassifier(random_state=best_x)\n",
    "dt.fit(X_train,y_train)\n",
    "Y_pred_dt = dt.predict(X_test)\n",
    "\n",
    "score_dt = round(accuracy_score(Y_pred_dt,y_test)*100,2)\n",
    "\n",
    "print(\"The accuracy score achieved using Decision Tree is: \"+str(score_dt)+\" %\")"
   ]
  },
  {
   "cell_type": "code",
   "execution_count": 18,
   "id": "possible-tamil",
   "metadata": {},
   "outputs": [
    {
     "name": "stdout",
     "output_type": "stream",
     "text": [
      "Collecting keras\n",
      "  Downloading Keras-2.4.3-py2.py3-none-any.whl (36 kB)\n",
      "Requirement already satisfied: scipy>=0.14 in /Users/pymacbit/opt/anaconda3/lib/python3.7/site-packages (from keras) (1.6.0)\n",
      "Requirement already satisfied: h5py in /Users/pymacbit/opt/anaconda3/lib/python3.7/site-packages (from keras) (2.10.0)\n",
      "Requirement already satisfied: pyyaml in /Users/pymacbit/opt/anaconda3/lib/python3.7/site-packages (from keras) (5.4.1)\n",
      "Requirement already satisfied: numpy>=1.9.1 in /Users/pymacbit/opt/anaconda3/lib/python3.7/site-packages (from keras) (1.19.2)\n",
      "Requirement already satisfied: six in /Users/pymacbit/opt/anaconda3/lib/python3.7/site-packages (from h5py->keras) (1.15.0)\n",
      "Installing collected packages: keras\n",
      "Successfully installed keras-2.4.3\n"
     ]
    }
   ],
   "source": [
    "!pip install keras"
   ]
  },
  {
   "cell_type": "code",
   "execution_count": 20,
   "id": "lyric-parade",
   "metadata": {},
   "outputs": [
    {
     "name": "stdout",
     "output_type": "stream",
     "text": [
      "Collecting tensorflow\n",
      "  Downloading tensorflow-2.4.1-cp37-cp37m-macosx_10_11_x86_64.whl (173.9 MB)\n",
      "\u001b[K     |████████████████████████████████| 173.9 MB 1.7 MB/s eta 0:00:012  |█▎                              | 7.0 MB 964 kB/s eta 0:02:54     |██                              | 11.3 MB 787 kB/s eta 0:03:27     |█████▍                          | 29.3 MB 1.2 MB/s eta 0:02:00     |█████▉                          | 31.6 MB 1.4 MB/s eta 0:01:43     |███████                         | 38.0 MB 1.8 MB/s eta 0:01:14     |███████▌                        | 40.8 MB 880 kB/s eta 0:02:32     |██████████████████▏             | 98.9 MB 1.8 MB/s eta 0:00:41     |███████████████████             | 103.8 MB 1.5 MB/s eta 0:00:48     |████████████████████████████    | 152.1 MB 2.3 MB/s eta 0:00:10     |████████████████████████████    | 152.2 MB 2.3 MB/s eta 0:00:10     |████████████████████████████▏   | 153.3 MB 2.3 MB/s eta 0:00:09\n",
      "\u001b[?25hCollecting absl-py~=0.10\n",
      "  Downloading absl_py-0.11.0-py3-none-any.whl (127 kB)\n",
      "\u001b[K     |████████████████████████████████| 127 kB 3.6 MB/s eta 0:00:01\n",
      "\u001b[?25hCollecting gast==0.3.3\n",
      "  Downloading gast-0.3.3-py2.py3-none-any.whl (9.7 kB)\n",
      "Requirement already satisfied: six~=1.15.0 in /Users/pymacbit/opt/anaconda3/lib/python3.7/site-packages (from tensorflow) (1.15.0)\n",
      "Requirement already satisfied: numpy~=1.19.2 in /Users/pymacbit/opt/anaconda3/lib/python3.7/site-packages (from tensorflow) (1.19.2)\n",
      "Collecting flatbuffers~=1.12.0\n",
      "  Downloading flatbuffers-1.12-py2.py3-none-any.whl (15 kB)\n",
      "Collecting google-pasta~=0.2\n",
      "  Downloading google_pasta-0.2.0-py3-none-any.whl (57 kB)\n",
      "\u001b[K     |████████████████████████████████| 57 kB 2.4 MB/s eta 0:00:01\n",
      "\u001b[?25hCollecting grpcio~=1.32.0\n",
      "  Downloading grpcio-1.32.0-cp37-cp37m-macosx_10_9_x86_64.whl (3.3 MB)\n",
      "\u001b[K     |████████████████████████████████| 3.3 MB 1.9 MB/s eta 0:00:01\n",
      "\u001b[?25hRequirement already satisfied: wheel~=0.35 in /Users/pymacbit/opt/anaconda3/lib/python3.7/site-packages (from tensorflow) (0.36.2)\n",
      "Collecting tensorboard~=2.4\n",
      "  Downloading tensorboard-2.4.1-py3-none-any.whl (10.6 MB)\n",
      "\u001b[K     |████████████████████████████████| 10.6 MB 2.5 MB/s eta 0:00:01\n",
      "\u001b[?25hCollecting wrapt~=1.12.1\n",
      "  Downloading wrapt-1.12.1.tar.gz (27 kB)\n",
      "Requirement already satisfied: typing-extensions~=3.7.4 in /Users/pymacbit/opt/anaconda3/lib/python3.7/site-packages (from tensorflow) (3.7.4.3)\n",
      "Collecting astunparse~=1.6.3\n",
      "  Downloading astunparse-1.6.3-py2.py3-none-any.whl (12 kB)\n",
      "Collecting tensorflow-estimator<2.5.0,>=2.4.0\n",
      "  Downloading tensorflow_estimator-2.4.0-py2.py3-none-any.whl (462 kB)\n",
      "\u001b[K     |████████████████████████████████| 462 kB 1.7 MB/s eta 0:00:01\n",
      "\u001b[?25hCollecting opt-einsum~=3.3.0\n",
      "  Downloading opt_einsum-3.3.0-py3-none-any.whl (65 kB)\n",
      "\u001b[K     |████████████████████████████████| 65 kB 1.4 MB/s eta 0:00:01\n",
      "\u001b[?25hRequirement already satisfied: protobuf>=3.9.2 in /Users/pymacbit/opt/anaconda3/lib/python3.7/site-packages (from tensorflow) (3.12.2)\n",
      "Collecting termcolor~=1.1.0\n",
      "  Downloading termcolor-1.1.0.tar.gz (3.9 kB)\n",
      "Requirement already satisfied: h5py~=2.10.0 in /Users/pymacbit/opt/anaconda3/lib/python3.7/site-packages (from tensorflow) (2.10.0)\n",
      "Collecting keras-preprocessing~=1.1.2\n",
      "  Downloading Keras_Preprocessing-1.1.2-py2.py3-none-any.whl (42 kB)\n",
      "\u001b[K     |████████████████████████████████| 42 kB 1.5 MB/s eta 0:00:01\n",
      "\u001b[?25hRequirement already satisfied: setuptools in /Users/pymacbit/opt/anaconda3/lib/python3.7/site-packages (from protobuf>=3.9.2->tensorflow) (52.0.0.post20210125)\n",
      "Collecting markdown>=2.6.8\n",
      "  Downloading Markdown-3.3.4-py3-none-any.whl (97 kB)\n",
      "\u001b[K     |████████████████████████████████| 97 kB 2.2 MB/s eta 0:00:01\n",
      "\u001b[?25hRequirement already satisfied: requests<3,>=2.21.0 in /Users/pymacbit/opt/anaconda3/lib/python3.7/site-packages (from tensorboard~=2.4->tensorflow) (2.25.1)\n",
      "Collecting tensorboard-plugin-wit>=1.6.0\n",
      "  Downloading tensorboard_plugin_wit-1.8.0-py3-none-any.whl (781 kB)\n",
      "\u001b[K     |████████████████████████████████| 781 kB 1.3 MB/s eta 0:00:01     |████████████████████▏           | 491 kB 1.3 MB/s eta 0:00:01\n",
      "\u001b[?25hCollecting google-auth-oauthlib<0.5,>=0.4.1\n",
      "  Downloading google_auth_oauthlib-0.4.2-py2.py3-none-any.whl (18 kB)\n",
      "Requirement already satisfied: werkzeug>=0.11.15 in /Users/pymacbit/opt/anaconda3/lib/python3.7/site-packages (from tensorboard~=2.4->tensorflow) (1.0.1)\n",
      "Collecting google-auth<2,>=1.6.3\n",
      "  Downloading google_auth-1.27.0-py2.py3-none-any.whl (135 kB)\n",
      "\u001b[K     |████████████████████████████████| 135 kB 1.7 MB/s eta 0:00:01\n",
      "\u001b[?25hCollecting rsa<5,>=3.1.4\n",
      "  Downloading rsa-4.7.2-py3-none-any.whl (34 kB)\n",
      "Collecting pyasn1-modules>=0.2.1\n",
      "  Downloading pyasn1_modules-0.2.8-py2.py3-none-any.whl (155 kB)\n",
      "\u001b[K     |████████████████████████████████| 155 kB 2.7 MB/s eta 0:00:01\n",
      "\u001b[?25hRequirement already satisfied: cachetools<5.0,>=2.0.0 in /Users/pymacbit/opt/anaconda3/lib/python3.7/site-packages (from google-auth<2,>=1.6.3->tensorboard~=2.4->tensorflow) (4.1.1)\n",
      "Collecting requests-oauthlib>=0.7.0\n",
      "  Downloading requests_oauthlib-1.3.0-py2.py3-none-any.whl (23 kB)\n",
      "Requirement already satisfied: importlib-metadata in /Users/pymacbit/opt/anaconda3/lib/python3.7/site-packages (from markdown>=2.6.8->tensorboard~=2.4->tensorflow) (1.7.0)\n",
      "Collecting pyasn1<0.5.0,>=0.4.6\n",
      "  Downloading pyasn1-0.4.8-py2.py3-none-any.whl (77 kB)\n",
      "\u001b[K     |████████████████████████████████| 77 kB 3.5 MB/s eta 0:00:01\n",
      "\u001b[?25hRequirement already satisfied: idna<3,>=2.5 in /Users/pymacbit/opt/anaconda3/lib/python3.7/site-packages (from requests<3,>=2.21.0->tensorboard~=2.4->tensorflow) (2.10)\n",
      "Requirement already satisfied: certifi>=2017.4.17 in /Users/pymacbit/opt/anaconda3/lib/python3.7/site-packages (from requests<3,>=2.21.0->tensorboard~=2.4->tensorflow) (2020.12.5)\n",
      "Requirement already satisfied: urllib3<1.27,>=1.21.1 in /Users/pymacbit/opt/anaconda3/lib/python3.7/site-packages (from requests<3,>=2.21.0->tensorboard~=2.4->tensorflow) (1.26.3)\n",
      "Requirement already satisfied: chardet<5,>=3.0.2 in /Users/pymacbit/opt/anaconda3/lib/python3.7/site-packages (from requests<3,>=2.21.0->tensorboard~=2.4->tensorflow) (4.0.0)\n",
      "Collecting oauthlib>=3.0.0\n",
      "  Downloading oauthlib-3.1.0-py2.py3-none-any.whl (147 kB)\n",
      "\u001b[K     |████████████████████████████████| 147 kB 402 kB/s eta 0:00:01\n",
      "\u001b[?25hRequirement already satisfied: zipp>=0.5 in /Users/pymacbit/opt/anaconda3/lib/python3.7/site-packages (from importlib-metadata->markdown>=2.6.8->tensorboard~=2.4->tensorflow) (3.4.0)\n",
      "Building wheels for collected packages: termcolor, wrapt\n",
      "  Building wheel for termcolor (setup.py) ... \u001b[?25ldone\n",
      "\u001b[?25h  Created wheel for termcolor: filename=termcolor-1.1.0-py3-none-any.whl size=4829 sha256=d83bd4fa88a0c4f47b20249a83f62e62b9bbd58463c843fb184c7f27d99b43a3\n",
      "  Stored in directory: /Users/pymacbit/Library/Caches/pip/wheels/3f/e3/ec/8a8336ff196023622fbcb36de0c5a5c218cbb24111d1d4c7f2\n",
      "  Building wheel for wrapt (setup.py) ... \u001b[?25ldone\n",
      "\u001b[?25h  Created wheel for wrapt: filename=wrapt-1.12.1-cp37-cp37m-macosx_10_9_x86_64.whl size=32450 sha256=234386069dacae317ad34ef1e133a950caf69a3d6b46387a39104ff7c7f86018\n",
      "  Stored in directory: /Users/pymacbit/Library/Caches/pip/wheels/62/76/4c/aa25851149f3f6d9785f6c869387ad82b3fd37582fa8147ac6\n",
      "Successfully built termcolor wrapt\n",
      "Installing collected packages: pyasn1, rsa, pyasn1-modules, oauthlib, requests-oauthlib, google-auth, tensorboard-plugin-wit, markdown, grpcio, google-auth-oauthlib, absl-py, wrapt, termcolor, tensorflow-estimator, tensorboard, opt-einsum, keras-preprocessing, google-pasta, gast, flatbuffers, astunparse, tensorflow\n",
      "  Attempting uninstall: wrapt\n",
      "    Found existing installation: wrapt 1.11.2\n",
      "    Uninstalling wrapt-1.11.2:\n",
      "      Successfully uninstalled wrapt-1.11.2\n",
      "Successfully installed absl-py-0.11.0 astunparse-1.6.3 flatbuffers-1.12 gast-0.3.3 google-auth-1.27.0 google-auth-oauthlib-0.4.2 google-pasta-0.2.0 grpcio-1.32.0 keras-preprocessing-1.1.2 markdown-3.3.4 oauthlib-3.1.0 opt-einsum-3.3.0 pyasn1-0.4.8 pyasn1-modules-0.2.8 requests-oauthlib-1.3.0 rsa-4.7.2 tensorboard-2.4.1 tensorboard-plugin-wit-1.8.0 tensorflow-2.4.1 tensorflow-estimator-2.4.0 termcolor-1.1.0 wrapt-1.12.1\n"
     ]
    }
   ],
   "source": [
    "!pip install tensorflow"
   ]
  },
  {
   "cell_type": "code",
   "execution_count": 21,
   "id": "constitutional-hartford",
   "metadata": {},
   "outputs": [
    {
     "name": "stdout",
     "output_type": "stream",
     "text": [
      "Epoch 1/100\n",
      "1114/1114 [==============================] - 5s 4ms/step - loss: 0.5619 - accuracy: 0.7561\n",
      "Epoch 2/100\n",
      "1114/1114 [==============================] - 6s 5ms/step - loss: 0.5496 - accuracy: 0.7573\n",
      "Epoch 3/100\n",
      "1114/1114 [==============================] - 5s 5ms/step - loss: 0.5460 - accuracy: 0.7596\n",
      "Epoch 4/100\n",
      "1114/1114 [==============================] - 4s 4ms/step - loss: 0.5478 - accuracy: 0.7576\n",
      "Epoch 5/100\n",
      "1114/1114 [==============================] - 5s 4ms/step - loss: 0.5439 - accuracy: 0.7608\n",
      "Epoch 6/100\n",
      "1114/1114 [==============================] - 4s 4ms/step - loss: 0.5448 - accuracy: 0.7604\n",
      "Epoch 7/100\n",
      "1114/1114 [==============================] - 4s 4ms/step - loss: 0.5497 - accuracy: 0.7559\n",
      "Epoch 8/100\n",
      "1114/1114 [==============================] - 4s 4ms/step - loss: 0.5459 - accuracy: 0.7583\n",
      "Epoch 9/100\n",
      "1114/1114 [==============================] - 4s 3ms/step - loss: 0.5465 - accuracy: 0.7578\n",
      "Epoch 10/100\n",
      "1114/1114 [==============================] - 6s 6ms/step - loss: 0.5470 - accuracy: 0.7563\n",
      "Epoch 11/100\n",
      "1114/1114 [==============================] - 5s 4ms/step - loss: 0.5467 - accuracy: 0.7562: 0s - loss: 0.5\n",
      "Epoch 12/100\n",
      "1114/1114 [==============================] - 5s 5ms/step - loss: 0.5445 - accuracy: 0.7586\n",
      "Epoch 13/100\n",
      "1114/1114 [==============================] - 4s 4ms/step - loss: 0.5440 - accuracy: 0.7589\n",
      "Epoch 14/100\n",
      "1114/1114 [==============================] - 4s 4ms/step - loss: 0.5437 - accuracy: 0.7584\n",
      "Epoch 15/100\n",
      "1114/1114 [==============================] - 5s 5ms/step - loss: 0.5466 - accuracy: 0.7561\n",
      "Epoch 16/100\n",
      "1114/1114 [==============================] - 5s 4ms/step - loss: 0.5456 - accuracy: 0.7569\n",
      "Epoch 17/100\n",
      "1114/1114 [==============================] - 4s 4ms/step - loss: 0.5489 - accuracy: 0.7538: 0s - loss: 0.5495 - \n",
      "Epoch 18/100\n",
      "1114/1114 [==============================] - 4s 4ms/step - loss: 0.5441 - accuracy: 0.7577\n",
      "Epoch 19/100\n",
      "1114/1114 [==============================] - 5s 4ms/step - loss: 0.5452 - accuracy: 0.7561\n",
      "Epoch 20/100\n",
      "1114/1114 [==============================] - 4s 4ms/step - loss: 0.5393 - accuracy: 0.7608\n",
      "Epoch 21/100\n",
      "1114/1114 [==============================] - 5s 5ms/step - loss: 0.5457 - accuracy: 0.7557: 0s - loss: 0.5460 \n",
      "Epoch 22/100\n",
      "1114/1114 [==============================] - 5s 4ms/step - loss: 0.5449 - accuracy: 0.7567\n",
      "Epoch 23/100\n",
      "1114/1114 [==============================] - 4s 4ms/step - loss: 0.5429 - accuracy: 0.7577\n",
      "Epoch 24/100\n",
      "1114/1114 [==============================] - 5s 4ms/step - loss: 0.5422 - accuracy: 0.7578\n",
      "Epoch 25/100\n",
      "1114/1114 [==============================] - 4s 3ms/step - loss: 0.5389 - accuracy: 0.7606\n",
      "Epoch 26/100\n",
      "1114/1114 [==============================] - 6s 5ms/step - loss: 0.5415 - accuracy: 0.7590\n",
      "Epoch 27/100\n",
      "1114/1114 [==============================] - 4s 4ms/step - loss: 0.5384 - accuracy: 0.7619\n",
      "Epoch 28/100\n",
      "1114/1114 [==============================] - 5s 4ms/step - loss: 0.5388 - accuracy: 0.7611\n",
      "Epoch 29/100\n",
      "1114/1114 [==============================] - 5s 5ms/step - loss: 0.5409 - accuracy: 0.7586: 0s - loss: 0.5408 - accu\n",
      "Epoch 30/100\n",
      "1114/1114 [==============================] - 4s 4ms/step - loss: 0.5397 - accuracy: 0.7599\n",
      "Epoch 31/100\n",
      "1114/1114 [==============================] - 4s 4ms/step - loss: 0.5436 - accuracy: 0.7579\n",
      "Epoch 32/100\n",
      "1114/1114 [==============================] - 4s 3ms/step - loss: 0.5470 - accuracy: 0.7551\n",
      "Epoch 33/100\n",
      "1114/1114 [==============================] - 5s 4ms/step - loss: 0.5436 - accuracy: 0.7559\n",
      "Epoch 34/100\n",
      "1114/1114 [==============================] - 4s 4ms/step - loss: 0.5395 - accuracy: 0.7607\n",
      "Epoch 35/100\n",
      "1114/1114 [==============================] - 5s 4ms/step - loss: 0.5401 - accuracy: 0.7589\n",
      "Epoch 36/100\n",
      "1114/1114 [==============================] - 4s 4ms/step - loss: 0.5447 - accuracy: 0.7554\n",
      "Epoch 37/100\n",
      "1114/1114 [==============================] - 6s 5ms/step - loss: 0.5430 - accuracy: 0.7571\n",
      "Epoch 38/100\n",
      "1114/1114 [==============================] - 5s 5ms/step - loss: 0.5418 - accuracy: 0.7588\n",
      "Epoch 39/100\n",
      "1114/1114 [==============================] - 4s 4ms/step - loss: 0.5404 - accuracy: 0.7589\n",
      "Epoch 40/100\n",
      "1114/1114 [==============================] - 5s 4ms/step - loss: 0.5428 - accuracy: 0.7572\n",
      "Epoch 41/100\n",
      "1114/1114 [==============================] - 4s 3ms/step - loss: 0.5417 - accuracy: 0.7579\n",
      "Epoch 42/100\n",
      "1114/1114 [==============================] - 5s 4ms/step - loss: 0.5438 - accuracy: 0.7558\n",
      "Epoch 43/100\n",
      "1114/1114 [==============================] - 4s 4ms/step - loss: 0.5438 - accuracy: 0.7569\n",
      "Epoch 44/100\n",
      "1114/1114 [==============================] - 5s 4ms/step - loss: 0.5362 - accuracy: 0.7626\n",
      "Epoch 45/100\n",
      "1114/1114 [==============================] - 5s 4ms/step - loss: 0.5416 - accuracy: 0.7572\n",
      "Epoch 46/100\n",
      "1114/1114 [==============================] - 6s 5ms/step - loss: 0.5449 - accuracy: 0.7545\n",
      "Epoch 47/100\n",
      "1114/1114 [==============================] - 5s 5ms/step - loss: 0.5402 - accuracy: 0.7602\n",
      "Epoch 48/100\n",
      "1114/1114 [==============================] - 6s 6ms/step - loss: 0.5452 - accuracy: 0.7553\n",
      "Epoch 49/100\n",
      "1114/1114 [==============================] - 5s 4ms/step - loss: 0.5436 - accuracy: 0.7564\n",
      "Epoch 50/100\n",
      "1114/1114 [==============================] - 7s 6ms/step - loss: 0.5400 - accuracy: 0.7611\n",
      "Epoch 51/100\n",
      "1114/1114 [==============================] - 6s 5ms/step - loss: 0.5410 - accuracy: 0.7587\n",
      "Epoch 52/100\n",
      "1114/1114 [==============================] - 6s 5ms/step - loss: 0.5387 - accuracy: 0.7610\n",
      "Epoch 53/100\n",
      "1114/1114 [==============================] - 5s 5ms/step - loss: 0.5433 - accuracy: 0.7570\n",
      "Epoch 54/100\n",
      "1114/1114 [==============================] - 6s 5ms/step - loss: 0.5438 - accuracy: 0.7571\n",
      "Epoch 55/100\n",
      "1114/1114 [==============================] - 6s 5ms/step - loss: 0.5435 - accuracy: 0.7570\n",
      "Epoch 56/100\n",
      "1114/1114 [==============================] - 6s 5ms/step - loss: 0.5413 - accuracy: 0.7587: 0s - loss: 0.5413 \n",
      "Epoch 57/100\n",
      "1114/1114 [==============================] - 5s 5ms/step - loss: 0.5391 - accuracy: 0.7603: 0s - loss: 0.5391 - accuracy: 0.76\n",
      "Epoch 58/100\n",
      "1114/1114 [==============================] - 3s 2ms/step - loss: 0.5388 - accuracy: 0.7612\n",
      "Epoch 59/100\n",
      "1114/1114 [==============================] - 3s 3ms/step - loss: 0.5460 - accuracy: 0.7539\n",
      "Epoch 60/100\n",
      "1114/1114 [==============================] - 5s 4ms/step - loss: 0.5407 - accuracy: 0.7586: 0s - loss: 0.5406  - ETA: 0s - loss: 0.5406 - accuracy\n",
      "Epoch 61/100\n",
      "1114/1114 [==============================] - 5s 5ms/step - loss: 0.5436 - accuracy: 0.7564\n",
      "Epoch 62/100\n",
      "1114/1114 [==============================] - 6s 5ms/step - loss: 0.5401 - accuracy: 0.7602\n",
      "Epoch 63/100\n",
      "1114/1114 [==============================] - 3s 2ms/step - loss: 0.5445 - accuracy: 0.7555\n",
      "Epoch 64/100\n",
      "1114/1114 [==============================] - 4s 4ms/step - loss: 0.5402 - accuracy: 0.7591\n",
      "Epoch 65/100\n",
      "1114/1114 [==============================] - 5s 4ms/step - loss: 0.5396 - accuracy: 0.7599\n",
      "Epoch 66/100\n",
      "1114/1114 [==============================] - 3s 2ms/step - loss: 0.5387 - accuracy: 0.7598\n",
      "Epoch 67/100\n",
      "1114/1114 [==============================] - 3s 3ms/step - loss: 0.5390 - accuracy: 0.7609\n",
      "Epoch 68/100\n",
      "1114/1114 [==============================] - 3s 3ms/step - loss: 0.5443 - accuracy: 0.7548\n",
      "Epoch 69/100\n",
      "1114/1114 [==============================] - 3s 2ms/step - loss: 0.5404 - accuracy: 0.7600\n",
      "Epoch 70/100\n",
      "1114/1114 [==============================] - 3s 3ms/step - loss: 0.5411 - accuracy: 0.7586\n",
      "Epoch 71/100\n",
      "1114/1114 [==============================] - 4s 3ms/step - loss: 0.5392 - accuracy: 0.7610\n",
      "Epoch 72/100\n",
      "1114/1114 [==============================] - 3s 3ms/step - loss: 0.5368 - accuracy: 0.7621\n",
      "Epoch 73/100\n",
      "1114/1114 [==============================] - 3s 3ms/step - loss: 0.5435 - accuracy: 0.7567\n",
      "Epoch 74/100\n",
      "1114/1114 [==============================] - 5s 4ms/step - loss: 0.5460 - accuracy: 0.7544\n",
      "Epoch 75/100\n",
      "1114/1114 [==============================] - 6s 5ms/step - loss: 0.5416 - accuracy: 0.7567\n",
      "Epoch 76/100\n",
      "1114/1114 [==============================] - 4s 4ms/step - loss: 0.5375 - accuracy: 0.7609TA: 1s - loss: 0.5360 - accuracy - ETA: 0s\n",
      "Epoch 77/100\n",
      "1114/1114 [==============================] - 4s 3ms/step - loss: 0.5442 - accuracy: 0.7548: 0s - loss: 0.5447 \n",
      "Epoch 78/100\n",
      "1114/1114 [==============================] - 3s 3ms/step - loss: 0.5395 - accuracy: 0.7582\n",
      "Epoch 79/100\n",
      "1114/1114 [==============================] - 4s 4ms/step - loss: 0.5402 - accuracy: 0.7585\n",
      "Epoch 80/100\n",
      "1114/1114 [==============================] - 4s 4ms/step - loss: 0.5401 - accuracy: 0.7586\n",
      "Epoch 81/100\n",
      "1114/1114 [==============================] - 3s 3ms/step - loss: 0.5372 - accuracy: 0.7604\n",
      "Epoch 82/100\n",
      "1114/1114 [==============================] - 3s 3ms/step - loss: 0.5434 - accuracy: 0.7541\n",
      "Epoch 83/100\n",
      "1114/1114 [==============================] - 4s 3ms/step - loss: 0.5393 - accuracy: 0.7582\n",
      "Epoch 84/100\n",
      "1114/1114 [==============================] - ETA: 0s - loss: 0.5410 - accuracy: 0.75 - 3s 3ms/step - loss: 0.5410 - accuracy: 0.7577\n",
      "Epoch 85/100\n",
      "1114/1114 [==============================] - 3s 3ms/step - loss: 0.5410 - accuracy: 0.7569\n",
      "Epoch 86/100\n",
      "1114/1114 [==============================] - 4s 3ms/step - loss: 0.5379 - accuracy: 0.7598\n",
      "Epoch 87/100\n",
      "1114/1114 [==============================] - 3s 2ms/step - loss: 0.5398 - accuracy: 0.7585\n",
      "Epoch 88/100\n",
      "1114/1114 [==============================] - 5s 4ms/step - loss: 0.5420 - accuracy: 0.7572: 0s - los\n",
      "Epoch 89/100\n",
      "1114/1114 [==============================] - 4s 3ms/step - loss: 0.5369 - accuracy: 0.7596\n",
      "Epoch 90/100\n",
      "1114/1114 [==============================] - 4s 3ms/step - loss: 0.5423 - accuracy: 0.7559\n",
      "Epoch 91/100\n",
      "1114/1114 [==============================] - 4s 3ms/step - loss: 0.5414 - accuracy: 0.7561\n",
      "Epoch 92/100\n",
      "1114/1114 [==============================] - 4s 3ms/step - loss: 0.5355 - accuracy: 0.7609\n",
      "Epoch 93/100\n",
      "1114/1114 [==============================] - 3s 3ms/step - loss: 0.5428 - accuracy: 0.7551: 0s - loss: 0.5428 - accuracy: 0.75\n",
      "Epoch 94/100\n",
      "1114/1114 [==============================] - 3s 3ms/step - loss: 0.5402 - accuracy: 0.7572\n",
      "Epoch 95/100\n",
      "1114/1114 [==============================] - 3s 3ms/step - loss: 0.5410 - accuracy: 0.7568\n",
      "Epoch 96/100\n",
      "1114/1114 [==============================] - 4s 3ms/step - loss: 0.5401 - accuracy: 0.7573\n",
      "Epoch 97/100\n",
      "1114/1114 [==============================] - 4s 4ms/step - loss: 0.5367 - accuracy: 0.7602\n",
      "Epoch 98/100\n",
      "1114/1114 [==============================] - 4s 3ms/step - loss: 0.5366 - accuracy: 0.7592\n",
      "Epoch 99/100\n",
      "1114/1114 [==============================] - 6s 5ms/step - loss: 0.5407 - accuracy: 0.7562\n",
      "Epoch 100/100\n",
      "1114/1114 [==============================] - 7s 6ms/step - loss: 0.5441 - accuracy: 0.7540: 1s - loss: 0.5454 - ac - ETA\n"
     ]
    },
    {
     "data": {
      "text/plain": [
       "<tensorflow.python.keras.callbacks.History at 0x7fc75793c750>"
      ]
     },
     "execution_count": 21,
     "metadata": {},
     "output_type": "execute_result"
    }
   ],
   "source": [
    "from keras.models import Sequential\n",
    "from keras.layers import Dense\n",
    "\n",
    "model = Sequential()\n",
    "model.add(Dense(11,activation='relu',input_dim=13))\n",
    "model.add(Dense(1,activation='sigmoid'))\n",
    "\n",
    "model.compile(loss='binary_crossentropy',optimizer='adam',metrics=['accuracy'])\n",
    "\n",
    "model.fit(X_train,y_train,epochs=100)\n"
   ]
  },
  {
   "cell_type": "code",
   "execution_count": 22,
   "id": "modified-effects",
   "metadata": {},
   "outputs": [],
   "source": [
    "Y_pred_nn = model.predict(X_test)"
   ]
  },
  {
   "cell_type": "code",
   "execution_count": 23,
   "id": "french-halloween",
   "metadata": {},
   "outputs": [],
   "source": [
    "rounded = [round(x[0]) for x in Y_pred_nn]\n",
    "\n",
    "Y_pred_nn = rounded"
   ]
  },
  {
   "cell_type": "code",
   "execution_count": 24,
   "id": "renewable-giant",
   "metadata": {},
   "outputs": [
    {
     "name": "stdout",
     "output_type": "stream",
     "text": [
      "The accuracy score achieved using Neural Network is: 76.43 %\n"
     ]
    }
   ],
   "source": [
    "score_nn = round(accuracy_score(Y_pred_nn,y_test)*100,2)\n",
    "\n",
    "print(\"The accuracy score achieved using Neural Network is: \"+str(score_nn)+\" %\")\n",
    "\n",
    "#Note: Accuracy of 85% can be achieved on the test set, by setting epochs=2000, and number of nodes = 11. "
   ]
  },
  {
   "cell_type": "code",
   "execution_count": null,
   "id": "plain-russia",
   "metadata": {},
   "outputs": [],
   "source": []
  }
 ],
 "metadata": {
  "kernelspec": {
   "display_name": "Python 3",
   "language": "python",
   "name": "python3"
  },
  "language_info": {
   "codemirror_mode": {
    "name": "ipython",
    "version": 3
   },
   "file_extension": ".py",
   "mimetype": "text/x-python",
   "name": "python",
   "nbconvert_exporter": "python",
   "pygments_lexer": "ipython3",
   "version": "3.7.9"
  }
 },
 "nbformat": 4,
 "nbformat_minor": 5
}
