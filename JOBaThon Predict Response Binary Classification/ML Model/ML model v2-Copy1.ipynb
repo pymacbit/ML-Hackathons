{
 "cells": [
  {
   "cell_type": "code",
   "execution_count": null,
   "id": "weekly-participation",
   "metadata": {},
   "outputs": [],
   "source": [
    "import pandas as pd"
   ]
  },
  {
   "cell_type": "code",
   "execution_count": null,
   "id": "native-collins",
   "metadata": {},
   "outputs": [],
   "source": [
    "train = pd.read_csv ('cleandf2.csv')"
   ]
  },
  {
   "cell_type": "code",
   "execution_count": null,
   "id": "wicked-perspective",
   "metadata": {},
   "outputs": [],
   "source": [
    "train.shape"
   ]
  },
  {
   "cell_type": "code",
   "execution_count": null,
   "id": "olive-peeing",
   "metadata": {},
   "outputs": [],
   "source": [
    "train.head(4)"
   ]
  },
  {
   "cell_type": "code",
   "execution_count": null,
   "id": "dominant-feeding",
   "metadata": {},
   "outputs": [],
   "source": [
    "X = train.drop(['Response','ID','Region_Code','City_Code','Region_Code'   ], axis = 1)\n",
    "y = train['Response'] "
   ]
  },
  {
   "cell_type": "code",
   "execution_count": null,
   "id": "sufficient-mainland",
   "metadata": {},
   "outputs": [],
   "source": [
    "from sklearn.preprocessing import MinMaxScaler\n",
    "scaler = MinMaxScaler()\n",
    "X = pd.DataFrame(scaler.fit_transform(X), columns = X.columns)\n",
    "X.head()"
   ]
  },
  {
   "cell_type": "code",
   "execution_count": null,
   "id": "optimum-fifth",
   "metadata": {},
   "outputs": [],
   "source": [
    "from sklearn.model_selection import train_test_split \n",
    "X_train, X_test, y_train, y_test = train_test_split(X, y, test_size=0.3, random_state=101)\n",
    "print(\"Training Data :\",\"X_train:\", X_train.shape, \"--- y_train:\", y_train.shape,\"\\nTesting Data  :\" \" X_test:\",X_test.shape, \" --- y_test:\",y_test.shape)"
   ]
  },
  {
   "cell_type": "code",
   "execution_count": null,
   "id": "federal-brake",
   "metadata": {},
   "outputs": [],
   "source": [
    "from xgboost import XGBClassifier\n",
    "from sklearn.metrics import accuracy_score\n",
    "from sklearn.metrics import classification_report\n",
    "\n",
    "# define the model\n",
    "model_xgbc = XGBClassifier()\n",
    "\n",
    "# fit the model on train data\n",
    "model_xgbc.fit(X_train, y_train)\n",
    "\n",
    "# predict on test set\n",
    "yhat_xgbc = model_xgbc.predict(X_test)\n",
    "\n",
    "# evaluate predictions\n",
    "accuracy = accuracy_score(y_test, yhat_xgbc)\n",
    "print(\"---------------------------------------------\")\n",
    "print('Accuracy: %.2f' % (accuracy*100))\n",
    "print(\"---------------------------------------------\")\n",
    "print(classification_report(y_test,yhat_xgbc))"
   ]
  },
  {
   "cell_type": "code",
   "execution_count": null,
   "id": "accepting-framework",
   "metadata": {},
   "outputs": [],
   "source": [
    "import xgboost as xgb\n",
    "from xgboost import plot_importance\n",
    "\n",
    "params = {\n",
    "    'objective': 'binary:logistic',\n",
    "    'gamma': 0.1,\n",
    "    'max_depth': 5,\n",
    "    'lambda': 3,\n",
    "    'subsample': 0.7,\n",
    "    'colsample_bytree': 0.7,\n",
    "    'min_child_weight': 3,\n",
    "    'silent': 1,\n",
    "    'eta': 0.1,\n",
    "    'seed': 1000,\n",
    "    'nthread': 4,\n",
    "}\n",
    "\n",
    "num_round = 10"
   ]
  },
  {
   "cell_type": "code",
   "execution_count": null,
   "id": "compatible-handle",
   "metadata": {},
   "outputs": [],
   "source": [
    "\n",
    "\n",
    "dtrain = xgb.DMatrix(X_train, label=y_train)\n",
    "dtest = xgb.DMatrix(X_test, label=y_test)\n",
    "watchlist = [(dtrain, 'train'), (dtest, 'test')]\n",
    "bst = xgb.train(params, dtrain, num_round, watchlist)\n",
    "y_pred_xgb = bst.predict(dtest)"
   ]
  },
  {
   "cell_type": "code",
   "execution_count": null,
   "id": "reverse-darkness",
   "metadata": {},
   "outputs": [],
   "source": [
    "print('The accuracy of the Neural Network is',round(accuracy_score(throttling(y_pred_xgb, 0.6),y_test)*100,2))"
   ]
  },
  {
   "cell_type": "code",
   "execution_count": null,
   "id": "hundred-minister",
   "metadata": {},
   "outputs": [],
   "source": [
    "plot_importance(bst)"
   ]
  },
  {
   "cell_type": "code",
   "execution_count": null,
   "id": "ranging-russia",
   "metadata": {},
   "outputs": [],
   "source": [
    "import matplotlib.pyplot as plt\n",
    "from matplotlib import style\n",
    "style.use('ggplot')"
   ]
  },
  {
   "cell_type": "code",
   "execution_count": null,
   "id": "worldwide-provincial",
   "metadata": {},
   "outputs": [],
   "source": [
    "from xgboost import plot_importance\n",
    "plt.figure(figsize=(40,20))\n",
    "plot_importance(bst,max_num_features=100)\n",
    "plt.rcParams[\"figure.figsize\"] = (40,100)\n",
    "plt.show()"
   ]
  },
  {
   "cell_type": "code",
   "execution_count": null,
   "id": "atmospheric-stylus",
   "metadata": {},
   "outputs": [],
   "source": []
  },
  {
   "cell_type": "code",
   "execution_count": null,
   "id": "sweet-integer",
   "metadata": {},
   "outputs": [],
   "source": []
  },
  {
   "cell_type": "code",
   "execution_count": null,
   "id": "incredible-salad",
   "metadata": {},
   "outputs": [],
   "source": []
  },
  {
   "cell_type": "code",
   "execution_count": null,
   "id": "surgical-reverse",
   "metadata": {},
   "outputs": [],
   "source": []
  },
  {
   "cell_type": "code",
   "execution_count": null,
   "id": "conservative-persian",
   "metadata": {},
   "outputs": [],
   "source": [
    "from sklearn.ensemble import RandomForestClassifier\n",
    "from sklearn.metrics import accuracy_score\n",
    "from sklearn.metrics import classification_report\n",
    "\n",
    "model = RandomForestClassifier(n_estimators = 100, criterion = 'entropy', random_state = 0)\n",
    "model.fit(X_train, y_train)\n",
    "\n",
    "# predict on test set\n",
    "ypred = model.predict(X_test)\n",
    "\n",
    "# evaluate predictions\n",
    "accuracy = accuracy_score(y_test, ypred)\n",
    "print(\"---------------------------------------------\")\n",
    "print('Accuracy: %.2f' % (accuracy*100))\n",
    "print(\"---------------------------------------------\")\n",
    "print(classification_report(y_test,ypred))"
   ]
  },
  {
   "cell_type": "code",
   "execution_count": null,
   "id": "preceding-amino",
   "metadata": {},
   "outputs": [],
   "source": [
    "from sklearn.metrics import accuracy_score\n",
    "from sklearn.linear_model import LogisticRegression\n",
    "lr = LogisticRegression()\n",
    "\n",
    "lr.fit(X_train, y_train)\n",
    "\n",
    "Y_pred_lr = lr.predict(X_test)\n",
    "\n",
    "score_lr = round(accuracy_score(Y_pred_lr,y_test)*100,2)\n",
    "\n",
    "print(\"The accuracy score achieved using Logistic Regression is: \"+str(score_lr)+\" %\")"
   ]
  },
  {
   "cell_type": "code",
   "execution_count": null,
   "id": "vulnerable-large",
   "metadata": {},
   "outputs": [],
   "source": [
    "from sklearn.naive_bayes import GaussianNB\n",
    "nb = GaussianNB()\n",
    "\n",
    "nb.fit(X_train,y_train)\n",
    "Y_pred_nb = nb.predict(X_test)\n",
    "\n",
    "score_nb = round(accuracy_score(Y_pred_nb,y_test)*100,2)\n",
    "\n",
    "print(\"The accuracy score achieved using Naive Bayes is: \"+str(score_nb)+\" %\")"
   ]
  },
  {
   "cell_type": "code",
   "execution_count": null,
   "id": "heavy-tanzania",
   "metadata": {},
   "outputs": [],
   "source": [
    "from sklearn import svm\n",
    "\n",
    "sv = svm.SVC(kernel='linear')\n",
    "\n",
    "sv.fit(X_train, y_train)\n",
    "\n",
    "Y_pred_svm = sv.predict(X_test)\n",
    "\n",
    "score_svm = round(accuracy_score(Y_pred_svm,y_test)*100,2)\n",
    "\n",
    "print(\"The accuracy score achieved using Linear SVM is: \"+str(score_svm)+\" %\")"
   ]
  },
  {
   "cell_type": "code",
   "execution_count": null,
   "id": "modified-richards",
   "metadata": {},
   "outputs": [],
   "source": [
    "from sklearn.neighbors import KNeighborsClassifier\n",
    "\n",
    "knn = KNeighborsClassifier(n_neighbors=7)\n",
    "knn.fit(X_train,y_train)\n",
    "Y_pred_knn=knn.predict(X_test)\n",
    "\n",
    "score_knn = round(accuracy_score(Y_pred_knn,y_test)*100,2)\n",
    "\n",
    "print(\"The accuracy score achieved using KNN is: \"+str(score_knn)+\" %\")"
   ]
  },
  {
   "cell_type": "code",
   "execution_count": null,
   "id": "incorporated-speaker",
   "metadata": {},
   "outputs": [],
   "source": [
    "from sklearn.tree import DecisionTreeClassifier\n",
    "\n",
    "max_accuracy = 0\n",
    "\n",
    "\n",
    "for x in range(200):\n",
    "    dt = DecisionTreeClassifier(random_state=x)\n",
    "    dt.fit(X_train,y_train)\n",
    "    Y_pred_dt = dt.predict(X_test)\n",
    "    current_accuracy = round(accuracy_score(Y_pred_dt,y_test)*100,2)\n",
    "    if(current_accuracy>max_accuracy):\n",
    "        max_accuracy = current_accuracy\n",
    "        best_x = x\n",
    "        \n",
    "#print(max_accuracy)\n",
    "#print(best_x)\n",
    "\n",
    "\n",
    "dt = DecisionTreeClassifier(random_state=best_x)\n",
    "dt.fit(X_train,y_train)\n",
    "Y_pred_dt = dt.predict(X_test)\n",
    "\n",
    "score_dt = round(accuracy_score(Y_pred_dt,y_test)*100,2)\n",
    "\n",
    "print(\"The accuracy score achieved using Decision Tree is: \"+str(score_dt)+\" %\")"
   ]
  },
  {
   "cell_type": "code",
   "execution_count": null,
   "id": "fifty-recovery",
   "metadata": {},
   "outputs": [],
   "source": [
    "!pip install keras"
   ]
  },
  {
   "cell_type": "code",
   "execution_count": null,
   "id": "miniature-seattle",
   "metadata": {},
   "outputs": [],
   "source": [
    "!pip install tensorflow"
   ]
  },
  {
   "cell_type": "code",
   "execution_count": null,
   "id": "motivated-protest",
   "metadata": {},
   "outputs": [],
   "source": [
    "from keras.models import Sequential\n",
    "from keras.layers import Dense\n",
    "\n",
    "model = Sequential()\n",
    "model.add(Dense(8,activation='relu',input_dim=10))\n",
    "model.add(Dense(1,activation='sigmoid'))\n",
    "\n",
    "model.compile(loss='binary_crossentropy',optimizer='adam',metrics=['accuracy'])\n",
    "\n",
    "model.fit(X_train,y_train,epochs=100)\n"
   ]
  },
  {
   "cell_type": "code",
   "execution_count": null,
   "id": "virgin-antenna",
   "metadata": {},
   "outputs": [],
   "source": [
    "Y_pred_nn = model.predict(X_test)"
   ]
  },
  {
   "cell_type": "code",
   "execution_count": null,
   "id": "controversial-allen",
   "metadata": {},
   "outputs": [],
   "source": [
    "rounded = [round(x[0]) for x in Y_pred_nn]\n",
    "\n",
    "Y_pred_nn = rounded"
   ]
  },
  {
   "cell_type": "code",
   "execution_count": null,
   "id": "indian-locator",
   "metadata": {},
   "outputs": [],
   "source": [
    "score_nn = round(accuracy_score(Y_pred_nn,y_test)*100,2)\n",
    "\n",
    "print(\"The accuracy score achieved using Neural Network is: \"+str(score_nn)+\" %\")\n",
    "\n",
    "#Note: Accuracy of 85% can be achieved on the test set, by setting epochs=2000, and number of nodes = 11. "
   ]
  },
  {
   "cell_type": "code",
   "execution_count": null,
   "id": "enabling-travel",
   "metadata": {},
   "outputs": [],
   "source": []
  }
 ],
 "metadata": {
  "kernelspec": {
   "display_name": "Python 3",
   "language": "python",
   "name": "python3"
  },
  "language_info": {
   "codemirror_mode": {
    "name": "ipython",
    "version": 3
   },
   "file_extension": ".py",
   "mimetype": "text/x-python",
   "name": "python",
   "nbconvert_exporter": "python",
   "pygments_lexer": "ipython3",
   "version": "3.7.9"
  }
 },
 "nbformat": 4,
 "nbformat_minor": 5
}
